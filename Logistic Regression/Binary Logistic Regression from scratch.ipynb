{
 "cells": [
  {
   "cell_type": "markdown",
   "id": "34645dc2-2b06-46ba-9a0c-db714ce29928",
   "metadata": {},
   "source": [
    "# Logistic Regression"
   ]
  },
  {
   "cell_type": "markdown",
   "id": "4d174fb5-00af-44e8-bb37-43995a55a460",
   "metadata": {},
   "source": [
    "Making a logistic regression class from scratch for Binary Classification"
   ]
  },
  {
   "cell_type": "code",
   "execution_count": 12,
   "id": "c1333545-7789-4f6b-b6f7-9d7cee7ec1c8",
   "metadata": {},
   "outputs": [],
   "source": [
    "import numpy as np\n",
    "from sklearn.datasets import make_classification"
   ]
  },
  {
   "cell_type": "code",
   "execution_count": 84,
   "id": "1ed95596-42c7-4c6a-a3cc-796d31bfa202",
   "metadata": {},
   "outputs": [],
   "source": [
    "class MyLogisticRegression:\n",
    "    def __init__(self,lr = 0.01, iter = 1000):\n",
    "        self.lr = lr\n",
    "        self.iter = iter\n",
    "        self.weights = None\n",
    "        self.bias = None\n",
    "\n",
    "    ## Sigmoid function\n",
    "    def sigmoid(self,z):\n",
    "        return 1/(1+np.exp(-z))\n",
    "\n",
    "    ## Training the model\n",
    "    def fit(self,X,y):\n",
    "\n",
    "        self.weights = np.zeros(X.shape[1])\n",
    "        self.bias = 0\n",
    "\n",
    "        ## Gradient Descent\n",
    "        for i in range(self.iter):\n",
    "            z = np.dot(X,self.weights) + self.bias\n",
    "            y_pred = self.sigmoid(z)\n",
    "\n",
    "            ## calculate gradients\n",
    "            dw = (1 / X.shape[0]) * np.dot(X.T,(y_pred-y))\n",
    "            db = (1 / X.shape[0]) * np.sum(y_pred - y)\n",
    "            ## Update \n",
    "            self.weights -= self.lr * dw\n",
    "            self.bias -= self.lr * db\n",
    "\n",
    "    def predict(self,X):\n",
    "        z = np.dot(X,self.weights) + self.bias\n",
    "        y_pred = self.sigmoid(z)\n",
    "        y_pred_class = [1 if prob > 0.5 else 0 for prob in y_pred]\n",
    "        return np.array(y_pred_class)\n",
    "\n",
    "            "
   ]
  },
  {
   "cell_type": "code",
   "execution_count": 135,
   "id": "3532df04-2989-442a-8c65-59b932cf2015",
   "metadata": {},
   "outputs": [],
   "source": [
    "X, y = make_classification(n_samples=500, n_features=2, n_informative=1,n_redundant=0,\n",
    "                           n_classes=2, n_clusters_per_class=1, random_state=41,hypercube=False,class_sep=20)"
   ]
  },
  {
   "cell_type": "code",
   "execution_count": 137,
   "id": "6dca7da5-d1fc-4ce5-ad8d-2c78c6558115",
   "metadata": {},
   "outputs": [],
   "source": [
    "from sklearn.model_selection import train_test_split  \n",
    "X_train,X_test,y_train,y_test = train_test_split(X,y,test_size = 0.3, random_state = 42)"
   ]
  },
  {
   "cell_type": "code",
   "execution_count": 149,
   "id": "aaf91f74-349c-4450-85c3-5180788bccb8",
   "metadata": {},
   "outputs": [],
   "source": [
    "from sklearn.linear_model import LogisticRegression\n",
    "from sklearn.metrics import accuracy_score,confusion_matrix\n",
    "lor = LogisticRegression(penalty=None,solver='sag')\n",
    "lor.fit(X_train,y_train)\n",
    "lr = MyLogisticRegression()\n",
    "lr.fit(X_train,y_train)"
   ]
  },
  {
   "cell_type": "code",
   "execution_count": 151,
   "id": "86b1e690-b566-414a-b657-46fb74dcf84e",
   "metadata": {},
   "outputs": [],
   "source": [
    "y_pred1 = lor.predict(X_test)\n",
    "y_pred2 = lr.predict(X_test)"
   ]
  },
  {
   "cell_type": "code",
   "execution_count": 153,
   "id": "a8cc9057-f58d-4ecc-9e56-8d2dce6834d8",
   "metadata": {},
   "outputs": [
    {
     "data": {
      "text/plain": [
       "array([0, 0, 1, 0, 1, 0, 0, 1, 1, 1, 1, 0, 1, 0, 0, 0, 0, 0, 1, 1, 0, 0,\n",
       "       0, 0, 1, 1, 1, 1, 0, 0, 0, 0, 1, 0, 0, 0, 0, 1, 0, 1, 1, 0, 1, 0,\n",
       "       0, 0, 0, 1, 1, 0, 1, 0, 0, 1, 0, 0, 0, 1, 0, 1, 1, 1, 0, 1, 1, 0,\n",
       "       1, 1, 1, 0, 1, 0, 0, 1, 1, 1, 1, 0, 1, 0, 1, 0, 0, 1, 0, 1, 0, 0,\n",
       "       0, 1, 1, 0, 0, 1, 1, 1, 1, 0, 1, 1, 1, 0, 1, 0, 0, 0, 0, 1, 1, 0,\n",
       "       0, 1, 1, 1, 0, 1, 1, 0, 1, 0, 1, 1, 1, 0, 0, 0, 0, 1, 0, 1, 0, 0,\n",
       "       0, 1, 1, 1, 1, 0, 1, 0, 1, 0, 1, 0, 0, 0, 0, 1, 1, 0])"
      ]
     },
     "execution_count": 153,
     "metadata": {},
     "output_type": "execute_result"
    }
   ],
   "source": [
    "y_pred1"
   ]
  },
  {
   "cell_type": "code",
   "execution_count": 155,
   "id": "23dc32d4-e3a9-4c98-9996-6bb61ee01c5a",
   "metadata": {},
   "outputs": [
    {
     "data": {
      "text/plain": [
       "array([0, 0, 1, 0, 1, 0, 0, 1, 1, 1, 1, 0, 1, 0, 0, 0, 0, 0, 1, 1, 0, 0,\n",
       "       0, 0, 1, 1, 1, 1, 0, 0, 0, 0, 1, 0, 0, 0, 0, 1, 0, 1, 1, 0, 1, 0,\n",
       "       0, 0, 0, 1, 1, 0, 1, 0, 0, 1, 0, 0, 0, 1, 0, 1, 1, 1, 0, 1, 1, 0,\n",
       "       1, 1, 1, 0, 1, 0, 0, 0, 1, 1, 1, 0, 1, 0, 1, 0, 0, 1, 0, 1, 0, 0,\n",
       "       0, 1, 1, 0, 0, 1, 1, 1, 1, 0, 1, 1, 1, 0, 1, 0, 0, 0, 0, 1, 1, 0,\n",
       "       0, 1, 1, 1, 0, 1, 1, 0, 1, 0, 1, 1, 1, 0, 0, 0, 0, 1, 0, 1, 0, 0,\n",
       "       0, 1, 1, 1, 1, 0, 1, 0, 1, 0, 1, 0, 0, 0, 0, 1, 1, 0])"
      ]
     },
     "execution_count": 155,
     "metadata": {},
     "output_type": "execute_result"
    }
   ],
   "source": [
    "y_pred2"
   ]
  },
  {
   "cell_type": "code",
   "execution_count": 157,
   "id": "3472f751-07e1-4898-b703-8c0bba59e353",
   "metadata": {},
   "outputs": [
    {
     "name": "stdout",
     "output_type": "stream",
     "text": [
      "Accuracy score for sklearn model 0.9866666666666667\n",
      "Accuracy score for My model 0.98\n"
     ]
    }
   ],
   "source": [
    "print('Accuracy score for sklearn model',accuracy_score(y_pred1,y_test))\n",
    "print('Accuracy score for My model',accuracy_score(y_pred2,y_test))"
   ]
  },
  {
   "cell_type": "code",
   "execution_count": 160,
   "id": "ac48c15a-1521-4020-a952-4777e968fb7c",
   "metadata": {},
   "outputs": [
    {
     "name": "stdout",
     "output_type": "stream",
     "text": [
      "Confusion matrix for sklearn model [[77  1]\n",
      " [ 1 71]]\n",
      "Confusion matrix for My model [[77  2]\n",
      " [ 1 70]]\n"
     ]
    }
   ],
   "source": [
    "print('Confusion matrix for sklearn model',confusion_matrix(y_pred1,y_test))\n",
    "print('Confusion matrix for My model',confusion_matrix(y_pred2,y_test))"
   ]
  },
  {
   "cell_type": "code",
   "execution_count": null,
   "id": "b5e2fcd0-441b-4333-b15e-ca09b75e5b2b",
   "metadata": {},
   "outputs": [],
   "source": []
  }
 ],
 "metadata": {
  "kernelspec": {
   "display_name": "Python 3 (ipykernel)",
   "language": "python",
   "name": "python3"
  },
  "language_info": {
   "codemirror_mode": {
    "name": "ipython",
    "version": 3
   },
   "file_extension": ".py",
   "mimetype": "text/x-python",
   "name": "python",
   "nbconvert_exporter": "python",
   "pygments_lexer": "ipython3",
   "version": "3.12.4"
  }
 },
 "nbformat": 4,
 "nbformat_minor": 5
}
