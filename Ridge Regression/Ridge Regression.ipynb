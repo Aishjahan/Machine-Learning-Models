{
 "cells": [
  {
   "cell_type": "markdown",
   "id": "56bd3e6b-2f7d-43ab-948e-c88ef648d40b",
   "metadata": {},
   "source": [
    "# Ridge Regression"
   ]
  },
  {
   "attachments": {
    "b00c42b2-7dfc-42fc-8377-9d1b7554b414.png": {
     "image/png": "[encoded data removed]"
    },
    "fee44bc5-1044-468d-a439-c004c07406e1.png": {
     "image/png": "[encoded data removed]"
    }
   },
   "cell_type": "markdown",
   "id": "45f5d877-2868-4338-b3c7-44dabd77d623",
   "metadata": {},
   "source": [
    "Ridge Regression is a linear model that includes a regularization term to reduce overfitting. The cost function for Ridge regression is modified to include a penalty on the size of the coefficients, controlled by the regularization parameter \n",
    "𝛼\n",
    "α.\n",
    "\n",
    "The Ridge regression formula is:\n",
    "\n",
    "![image.png](attachment:b00c42b2-7dfc-42fc-8377-9d1b7554b414.png)\n",
    "\n",
    "                       wmin( ∣∣y−Xw∣∣^2 + α∣∣w∣∣^2 )\n",
    "Where:\n",
    "\n",
    "y is the vector of target values.\n",
    "X is the matrix of input features.\n",
    "w are the model parameters (weights).\n",
    "α is the regularization parameter that controls the strength of the penalty term ∣∣w∣∣^2 (the L2 norm of the weights).\n",
    "Ridge Regression Formula\n",
    "The closed-form solution for Ridge regression can be derived as follows:\n",
    "\n",
    "![image.png](attachment:fee44bc5-1044-468d-a439-c004c07406e1.png)\n",
    "\n",
    "            w=(XT.X+αI)^−1 X.Ty\n",
    "Where:\n",
    "\n",
    "X.T is the transpose of the matrix \n",
    "\n",
    "I is the identity matrix.\n",
    "\n",
    "αI adds the regularization (penalty) term to the normal equation."
   ]
  },
  {
   "cell_type": "code",
   "execution_count": 3,
   "id": "6d276728-e9ee-458e-bfe7-0a1c4861349a",
   "metadata": {},
   "outputs": [],
   "source": [
    "import numpy as np\n",
    "import pandas as pd \n",
    "import matplotlib.pyplot as plt"
   ]
  },
  {
   "cell_type": "code",
   "execution_count": 5,
   "id": "66909e11-4209-454d-bb29-31963fedb26e",
   "metadata": {},
   "outputs": [],
   "source": [
    "from sklearn.datasets import load_diabetes\n",
    "\n",
    "data=load_diabetes()"
   ]
  },
  {
   "cell_type": "code",
   "execution_count": 9,
   "id": "e34de0be-ac82-49bb-a3c0-74a3c90f6cc2",
   "metadata": {},
   "outputs": [
    {
     "data": {
      "text/plain": [
       "{'data': array([[ 0.03807591,  0.05068012,  0.06169621, ..., -0.00259226,\n",
       "          0.01990749, -0.01764613],\n",
       "        [-0.00188202, -0.04464164, -0.05147406, ..., -0.03949338,\n",
       "         -0.06833155, -0.09220405],\n",
       "        [ 0.08529891,  0.05068012,  0.04445121, ..., -0.00259226,\n",
       "          0.00286131, -0.02593034],\n",
       "        ...,\n",
       "        [ 0.04170844,  0.05068012, -0.01590626, ..., -0.01107952,\n",
       "         -0.04688253,  0.01549073],\n",
       "        [-0.04547248, -0.04464164,  0.03906215, ...,  0.02655962,\n",
       "          0.04452873, -0.02593034],\n",
       "        [-0.04547248, -0.04464164, -0.0730303 , ..., -0.03949338,\n",
       "         -0.00422151,  0.00306441]]),\n",
       " 'target': array([151.,  75., 141., 206., 135.,  97., 138.,  63., 110., 310., 101.,\n",
       "         69., 179., 185., 118., 171., 166., 144.,  97., 168.,  68.,  49.,\n",
       "         68., 245., 184., 202., 137.,  85., 131., 283., 129.,  59., 341.,\n",
       "         87.,  65., 102., 265., 276., 252.,  90., 100.,  55.,  61.,  92.,\n",
       "        259.,  53., 190., 142.,  75., 142., 155., 225.,  59., 104., 182.,\n",
       "        128.,  52.,  37., 170., 170.,  61., 144.,  52., 128.,  71., 163.,\n",
       "        150.,  97., 160., 178.,  48., 270., 202., 111.,  85.,  42., 170.,\n",
       "        200., 252., 113., 143.,  51.,  52., 210.,  65., 141.,  55., 134.,\n",
       "         42., 111.,  98., 164.,  48.,  96.,  90., 162., 150., 279.,  92.,\n",
       "         83., 128., 102., 302., 198.,  95.,  53., 134., 144., 232.,  81.,\n",
       "        104.,  59., 246., 297., 258., 229., 275., 281., 179., 200., 200.,\n",
       "        173., 180.,  84., 121., 161.,  99., 109., 115., 268., 274., 158.,\n",
       "        107.,  83., 103., 272.,  85., 280., 336., 281., 118., 317., 235.,\n",
       "         60., 174., 259., 178., 128.,  96., 126., 288.,  88., 292.,  71.,\n",
       "        197., 186.,  25.,  84.,  96., 195.,  53., 217., 172., 131., 214.,\n",
       "         59.,  70., 220., 268., 152.,  47.,  74., 295., 101., 151., 127.,\n",
       "        237., 225.,  81., 151., 107.,  64., 138., 185., 265., 101., 137.,\n",
       "        143., 141.,  79., 292., 178.,  91., 116.,  86., 122.,  72., 129.,\n",
       "        142.,  90., 158.,  39., 196., 222., 277.,  99., 196., 202., 155.,\n",
       "         77., 191.,  70.,  73.,  49.,  65., 263., 248., 296., 214., 185.,\n",
       "         78.,  93., 252., 150.,  77., 208.,  77., 108., 160.,  53., 220.,\n",
       "        154., 259.,  90., 246., 124.,  67.,  72., 257., 262., 275., 177.,\n",
       "         71.,  47., 187., 125.,  78.,  51., 258., 215., 303., 243.,  91.,\n",
       "        150., 310., 153., 346.,  63.,  89.,  50.,  39., 103., 308., 116.,\n",
       "        145.,  74.,  45., 115., 264.,  87., 202., 127., 182., 241.,  66.,\n",
       "         94., 283.,  64., 102., 200., 265.,  94., 230., 181., 156., 233.,\n",
       "         60., 219.,  80.,  68., 332., 248.,  84., 200.,  55.,  85.,  89.,\n",
       "         31., 129.,  83., 275.,  65., 198., 236., 253., 124.,  44., 172.,\n",
       "        114., 142., 109., 180., 144., 163., 147.,  97., 220., 190., 109.,\n",
       "        191., 122., 230., 242., 248., 249., 192., 131., 237.,  78., 135.,\n",
       "        244., 199., 270., 164.,  72.,  96., 306.,  91., 214.,  95., 216.,\n",
       "        263., 178., 113., 200., 139., 139.,  88., 148.,  88., 243.,  71.,\n",
       "         77., 109., 272.,  60.,  54., 221.,  90., 311., 281., 182., 321.,\n",
       "         58., 262., 206., 233., 242., 123., 167.,  63., 197.,  71., 168.,\n",
       "        140., 217., 121., 235., 245.,  40.,  52., 104., 132.,  88.,  69.,\n",
       "        219.,  72., 201., 110.,  51., 277.,  63., 118.,  69., 273., 258.,\n",
       "         43., 198., 242., 232., 175.,  93., 168., 275., 293., 281.,  72.,\n",
       "        140., 189., 181., 209., 136., 261., 113., 131., 174., 257.,  55.,\n",
       "         84.,  42., 146., 212., 233.,  91., 111., 152., 120.,  67., 310.,\n",
       "         94., 183.,  66., 173.,  72.,  49.,  64.,  48., 178., 104., 132.,\n",
       "        220.,  57.]),\n",
       " 'frame': None,\n",
       " 'DESCR': '.. _diabetes_dataset:\\n\\nDiabetes dataset\\n----------------\\n\\nTen baseline variables, age, sex, body mass index, average blood\\npressure, and six blood serum measurements were obtained for each of n =\\n442 diabetes patients, as well as the response of interest, a\\nquantitative measure of disease progression one year after baseline.\\n\\n**Data Set Characteristics:**\\n\\n:Number of Instances: 442\\n\\n:Number of Attributes: First 10 columns are numeric predictive values\\n\\n:Target: Column 11 is a quantitative measure of disease progression one year after baseline\\n\\n:Attribute Information:\\n    - age     age in years\\n    - sex\\n    - bmi     body mass index\\n    - bp      average blood pressure\\n    - s1      tc, total serum cholesterol\\n    - s2      ldl, low-density lipoproteins\\n    - s3      hdl, high-density lipoproteins\\n    - s4      tch, total cholesterol / HDL\\n    - s5      ltg, possibly log of serum triglycerides level\\n    - s6      glu, blood sugar level\\n\\nNote: Each of these 10 feature variables have been mean centered and scaled by the standard deviation times the square root of `n_samples` (i.e. the sum of squares of each column totals 1).\\n\\nSource URL:\\nhttps://www4.stat.ncsu.edu/~boos/var.select/diabetes.html\\n\\nFor more information see:\\nBradley Efron, Trevor Hastie, Iain Johnstone and Robert Tibshirani (2004) \"Least Angle Regression,\" Annals of Statistics (with discussion), 407-499.\\n(https://web.stanford.edu/~hastie/Papers/LARS/LeastAngle_2002.pdf)\\n',\n",
       " 'feature_names': ['age',\n",
       "  'sex',\n",
       "  'bmi',\n",
       "  'bp',\n",
       "  's1',\n",
       "  's2',\n",
       "  's3',\n",
       "  's4',\n",
       "  's5',\n",
       "  's6'],\n",
       " 'data_filename': 'diabetes_data_raw.csv.gz',\n",
       " 'target_filename': 'diabetes_target.csv.gz',\n",
       " 'data_module': 'sklearn.datasets.data'}"
      ]
     },
     "execution_count": 9,
     "metadata": {},
     "output_type": "execute_result"
    }
   ],
   "source": [
    "data"
   ]
  },
  {
   "cell_type": "code",
   "execution_count": 11,
   "id": "f1c07071-8bac-4769-9630-9603784bab2f",
   "metadata": {},
   "outputs": [],
   "source": [
    "X = data.data\n",
    "y = data.target"
   ]
  },
  {
   "cell_type": "markdown",
   "id": "d9b0f300-2a29-4b91-ae51-2f0e048a489a",
   "metadata": {},
   "source": [
    "## With Simple Linear Regression"
   ]
  },
  {
   "cell_type": "code",
   "execution_count": 29,
   "id": "fcbaffb5-fe4a-470c-926d-cbb506c8588b",
   "metadata": {},
   "outputs": [],
   "source": [
    "from sklearn.linear_model import LinearRegression\n",
    "from sklearn.metrics import r2_score,mean_squared_error\n",
    "from sklearn.model_selection import train_test_split"
   ]
  },
  {
   "cell_type": "code",
   "execution_count": 31,
   "id": "57885397-f21f-41c7-8c42-d397fba60f32",
   "metadata": {},
   "outputs": [],
   "source": [
    "X_train, X_test, y_train,y_test = train_test_split(X,y,test_size =0.2, random_state = 13)"
   ]
  },
  {
   "cell_type": "code",
   "execution_count": 33,
   "id": "788fb0dc-3948-4a29-9ccb-be0214b16d06",
   "metadata": {},
   "outputs": [],
   "source": [
    "lr = LinearRegression()\n",
    "lr.fit(X_train,y_train)\n",
    "y_pred = lr.predict(X_test)"
   ]
  },
  {
   "cell_type": "code",
   "execution_count": 47,
   "id": "2623f296-cd96-4660-84ac-22df0a435cfa",
   "metadata": {},
   "outputs": [
    {
     "name": "stdout",
     "output_type": "stream",
     "text": [
      "R2 Score:  -0.00043029567779040434\n",
      "RMSE:  70.0439153754476\n"
     ]
    }
   ],
   "source": [
    "print(\"R2 Score: \",r2_score(y_test,y_pred))\n",
    "print(\"RMSE: \",np.sqrt(mean_squared_error(y_test,y_pred)))"
   ]
  },
  {
   "cell_type": "code",
   "execution_count": 60,
   "id": "682f501b-0dd2-4007-9f61-b0a2e813ebb8",
   "metadata": {},
   "outputs": [
    {
     "name": "stdout",
     "output_type": "stream",
     "text": [
      "[ -17.28691266 -248.0885923   578.27946674  315.72999856 -571.32572115\n",
      "  292.43070367  -17.46493017  120.18338433  695.01416778  108.05301725]\n",
      "150.23367667649734\n"
     ]
    }
   ],
   "source": [
    "print(lr.coef_)\n",
    "print(lr.intercept_)"
   ]
  },
  {
   "cell_type": "markdown",
   "id": "77c6990b-08cd-4ce3-8e6c-75b4d2ffda9a",
   "metadata": {},
   "source": [
    "## With Ridge Regression"
   ]
  },
  {
   "cell_type": "code",
   "execution_count": 211,
   "id": "224a4caf-c40f-430e-9983-f81ff1544563",
   "metadata": {},
   "outputs": [],
   "source": [
    "from sklearn.linear_model import Ridge\n",
    "R=Ridge(alpha=0.2,solver='cholesky')"
   ]
  },
  {
   "cell_type": "code",
   "execution_count": 213,
   "id": "449e3171-ed4d-4fc2-b9bc-8b1d1d66cb78",
   "metadata": {},
   "outputs": [],
   "source": [
    "R.fit(X_train, y_train)\n",
    "y_pred = R.predict(X_test)"
   ]
  },
  {
   "cell_type": "code",
   "execution_count": 215,
   "id": "21b9940c-da4d-431b-b97f-3609ea71c76b",
   "metadata": {},
   "outputs": [
    {
     "name": "stdout",
     "output_type": "stream",
     "text": [
      "R2 Score:  0.39140857975248255\n",
      "RMSE:  54.631095577621444\n"
     ]
    }
   ],
   "source": [
    "print(\"R2 Score: \",r2_score(y_test,y_pred))\n",
    "print(\"RMSE: \",np.sqrt(mean_squared_error(y_test,y_pred)))"
   ]
  },
  {
   "cell_type": "code",
   "execution_count": 217,
   "id": "be7611aa-5bfd-48df-b20f-df3c5b4cfc53",
   "metadata": {},
   "outputs": [
    {
     "name": "stdout",
     "output_type": "stream",
     "text": [
      "[   2.10450642 -182.11928294  489.26418743  280.20857072  -33.6290397\n",
      "  -85.85012285 -196.28680012  114.79555879  389.55124821  132.23841288]\n",
      "150.3350541093595\n"
     ]
    }
   ],
   "source": [
    "print(R.coef_)\n",
    "print(R.intercept_)"
   ]
  },
  {
   "cell_type": "markdown",
   "id": "2fefd157-1c9c-44a4-a482-fe0e7c33d3f0",
   "metadata": {},
   "source": [
    "## With Ridge Regression (Gradient Descent - solver='sparse_cg')"
   ]
  },
  {
   "cell_type": "code",
   "execution_count": 228,
   "id": "bb1ce2ec-8fdf-4835-82fb-55d2fbb075ea",
   "metadata": {},
   "outputs": [],
   "source": [
    "from sklearn.linear_model import Ridge\n",
    "R=Ridge(alpha=0.2,max_iter = 500,solver='sparse_cg')"
   ]
  },
  {
   "cell_type": "code",
   "execution_count": 230,
   "id": "87d0d021-3059-48fc-bf8b-22c60582d554",
   "metadata": {},
   "outputs": [],
   "source": [
    "R.fit(X_train, y_train)\n",
    "y_pred = R.predict(X_test)"
   ]
  },
  {
   "cell_type": "code",
   "execution_count": 232,
   "id": "29a82679-0c5f-4a16-919f-d178ccfe9f60",
   "metadata": {},
   "outputs": [
    {
     "name": "stdout",
     "output_type": "stream",
     "text": [
      "R2 Score:  0.391411255111454\n",
      "RMSE:  54.63097549874139\n"
     ]
    }
   ],
   "source": [
    "print(\"R2 Score: \",r2_score(y_test,y_pred))\n",
    "print(\"RMSE: \",np.sqrt(mean_squared_error(y_test,y_pred)))"
   ]
  },
  {
   "cell_type": "code",
   "execution_count": 234,
   "id": "ab2cea55-1263-4911-a5a9-4df075006196",
   "metadata": {},
   "outputs": [
    {
     "name": "stdout",
     "output_type": "stream",
     "text": [
      "[   2.05062301 -182.13146732  489.20874812  280.29412156  -33.48601178\n",
      "  -85.86802293 -196.45306231  114.6428468   389.52886219  132.21957958]\n",
      "150.33497054768839\n"
     ]
    }
   ],
   "source": [
    "print(R.coef_)\n",
    "print(R.intercept_)"
   ]
  },
  {
   "cell_type": "markdown",
   "id": "d454a96e-354a-4560-aa44-df55209bf059",
   "metadata": {},
   "source": [
    "### Result - With Ridge Regression we get less RMSE"
   ]
  },
  {
   "cell_type": "markdown",
   "id": "71989fd4-c043-4247-b7f7-22debcccd108",
   "metadata": {},
   "source": [
    "## With Self Made Ridge Class"
   ]
  },
  {
   "cell_type": "code",
   "execution_count": 246,
   "id": "cceb3a85-f976-47e7-b4de-03211a77091d",
   "metadata": {},
   "outputs": [],
   "source": [
    "class MyRidge:\n",
    "    \n",
    "    def __init__(self,alpha=0.2):\n",
    "        \n",
    "        self.alpha = alpha\n",
    "        self.coef_ = None\n",
    "        self.intercept_ = None\n",
    "        \n",
    "    def fit(self,X_train,y_train):\n",
    "        \n",
    "        X_train = np.insert(X_train,0,1,axis=1)\n",
    "        I = np.identity(X_train.shape[1])\n",
    "        I[0][0] = 0\n",
    "        result = np.linalg.inv(np.dot(X_train.T,X_train) + self.alpha * I).dot(X_train.T).dot(y_train)\n",
    "        self.intercept_ = result[0]\n",
    "        self.coef_ = result[1:]\n",
    "    \n",
    "    def predict(self,X_test):\n",
    "        return np.dot(X_test,self.coef_) + self.intercept_"
   ]
  },
  {
   "cell_type": "code",
   "execution_count": 248,
   "id": "28df34f6-ee31-429b-886b-f7cbf05d2d89",
   "metadata": {},
   "outputs": [
    {
     "name": "stdout",
     "output_type": "stream",
     "text": [
      "R2 Score:  0.39140857975248255\n",
      "RMSE:  54.631095577621444\n"
     ]
    }
   ],
   "source": [
    "reg = MyRidge()\n",
    "reg.fit(X_train,y_train)\n",
    "y_pred = reg.predict(X_test)\n",
    "print(\"R2 Score: \",r2_score(y_test,y_pred))\n",
    "print(\"RMSE: \",np.sqrt(mean_squared_error(y_test,y_pred)))"
   ]
  },
  {
   "cell_type": "code",
   "execution_count": 250,
   "id": "120f005c-ce51-4991-819e-6647d4f42ce4",
   "metadata": {},
   "outputs": [
    {
     "name": "stdout",
     "output_type": "stream",
     "text": [
      "[   2.10450642 -182.11928294  489.26418743  280.20857072  -33.6290397\n",
      "  -85.85012285 -196.28680012  114.79555879  389.55124821  132.23841288]\n",
      "150.33505410935953\n"
     ]
    }
   ],
   "source": [
    "print(reg.coef_)\n",
    "print(reg.intercept_)"
   ]
  },
  {
   "cell_type": "code",
   "execution_count": null,
   "id": "4cc47656-21dc-4f70-905a-20f55f4d0061",
   "metadata": {},
   "outputs": [],
   "source": []
  }
 ],
 "metadata": {
  "kernelspec": {
   "display_name": "Python 3 (ipykernel)",
   "language": "python",
   "name": "python3"
  },
  "language_info": {
   "codemirror_mode": {
    "name": "ipython",
    "version": 3
   },
   "file_extension": ".py",
   "mimetype": "text/x-python",
   "name": "python",
   "nbconvert_exporter": "python",
   "pygments_lexer": "ipython3",
   "version": "3.12.4"
  }
 },
 "nbformat": 4,
 "nbformat_minor": 5
}
