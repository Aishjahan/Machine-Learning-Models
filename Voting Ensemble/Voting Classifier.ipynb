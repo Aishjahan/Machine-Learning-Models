{
 "cells": [
  {
   "cell_type": "markdown",
   "id": "b9156d29-fbaf-489d-86c6-f2d2e7304c3e",
   "metadata": {},
   "source": [
    "# Voting Classifier"
   ]
  },
  {
   "cell_type": "code",
   "execution_count": 5,
   "id": "603e6df8-a81a-49c3-9abc-62f484dcf902",
   "metadata": {},
   "outputs": [],
   "source": [
    "from sklearn.datasets import load_iris\n",
    "from sklearn.linear_model import LogisticRegression\n",
    "from sklearn.tree import DecisionTreeClassifier\n",
    "from sklearn.neighbors import KNeighborsClassifier\n",
    "from sklearn.ensemble import RandomForestClassifier\n",
    "from sklearn.model_selection import cross_val_score\n",
    "from sklearn.ensemble import VotingClassifier\n",
    "from sklearn.metrics import accuracy_score"
   ]
  },
  {
   "cell_type": "code",
   "execution_count": 7,
   "id": "5447ac0e-e1dc-4d6d-9da5-3fdeb86be0d9",
   "metadata": {},
   "outputs": [],
   "source": [
    "data = load_iris()"
   ]
  },
  {
   "cell_type": "code",
   "execution_count": 11,
   "id": "23be54ad-1c5c-4518-8c32-bb0200c81038",
   "metadata": {},
   "outputs": [],
   "source": [
    "import numpy as np\n",
    "import pandas as pd"
   ]
  },
  {
   "cell_type": "code",
   "execution_count": 39,
   "id": "a1897812-06c8-4255-9a4e-86bfefbcb00d",
   "metadata": {},
   "outputs": [],
   "source": [
    "df = pd.DataFrame(data=data.data, columns=data.feature_names)"
   ]
  },
  {
   "cell_type": "code",
   "execution_count": 41,
   "id": "e7b46ed9-ad1c-4db1-8976-c4135efe7fc3",
   "metadata": {},
   "outputs": [],
   "source": [
    "df['target'] = data.target"
   ]
  },
  {
   "cell_type": "code",
   "execution_count": 43,
   "id": "1919b59f-f8a1-407e-91fb-592324a5d088",
   "metadata": {},
   "outputs": [
    {
     "data": {
      "text/html": [
       "<div>\n",
       "<style scoped>\n",
       "    .dataframe tbody tr th:only-of-type {\n",
       "        vertical-align: middle;\n",
       "    }\n",
       "\n",
       "    .dataframe tbody tr th {\n",
       "        vertical-align: top;\n",
       "    }\n",
       "\n",
       "    .dataframe thead th {\n",
       "        text-align: right;\n",
       "    }\n",
       "</style>\n",
       "<table border=\"1\" class=\"dataframe\">\n",
       "  <thead>\n",
       "    <tr style=\"text-align: right;\">\n",
       "      <th></th>\n",
       "      <th>sepal length (cm)</th>\n",
       "      <th>sepal width (cm)</th>\n",
       "      <th>petal length (cm)</th>\n",
       "      <th>petal width (cm)</th>\n",
       "      <th>target</th>\n",
       "    </tr>\n",
       "  </thead>\n",
       "  <tbody>\n",
       "    <tr>\n",
       "      <th>0</th>\n",
       "      <td>5.1</td>\n",
       "      <td>3.5</td>\n",
       "      <td>1.4</td>\n",
       "      <td>0.2</td>\n",
       "      <td>0</td>\n",
       "    </tr>\n",
       "    <tr>\n",
       "      <th>1</th>\n",
       "      <td>4.9</td>\n",
       "      <td>3.0</td>\n",
       "      <td>1.4</td>\n",
       "      <td>0.2</td>\n",
       "      <td>0</td>\n",
       "    </tr>\n",
       "    <tr>\n",
       "      <th>2</th>\n",
       "      <td>4.7</td>\n",
       "      <td>3.2</td>\n",
       "      <td>1.3</td>\n",
       "      <td>0.2</td>\n",
       "      <td>0</td>\n",
       "    </tr>\n",
       "    <tr>\n",
       "      <th>3</th>\n",
       "      <td>4.6</td>\n",
       "      <td>3.1</td>\n",
       "      <td>1.5</td>\n",
       "      <td>0.2</td>\n",
       "      <td>0</td>\n",
       "    </tr>\n",
       "    <tr>\n",
       "      <th>4</th>\n",
       "      <td>5.0</td>\n",
       "      <td>3.6</td>\n",
       "      <td>1.4</td>\n",
       "      <td>0.2</td>\n",
       "      <td>0</td>\n",
       "    </tr>\n",
       "  </tbody>\n",
       "</table>\n",
       "</div>"
      ],
      "text/plain": [
       "   sepal length (cm)  sepal width (cm)  petal length (cm)  petal width (cm)  \\\n",
       "0                5.1               3.5                1.4               0.2   \n",
       "1                4.9               3.0                1.4               0.2   \n",
       "2                4.7               3.2                1.3               0.2   \n",
       "3                4.6               3.1                1.5               0.2   \n",
       "4                5.0               3.6                1.4               0.2   \n",
       "\n",
       "   target  \n",
       "0       0  \n",
       "1       0  \n",
       "2       0  \n",
       "3       0  \n",
       "4       0  "
      ]
     },
     "execution_count": 43,
     "metadata": {},
     "output_type": "execute_result"
    }
   ],
   "source": [
    "df.head()"
   ]
  },
  {
   "cell_type": "code",
   "execution_count": 47,
   "id": "98d51b27-4a31-491a-9db5-4315980cda3e",
   "metadata": {},
   "outputs": [],
   "source": [
    "from sklearn.preprocessing import LabelEncoder\n",
    "encoder = LabelEncoder()"
   ]
  },
  {
   "cell_type": "code",
   "execution_count": 49,
   "id": "55748acf-0758-47c1-b59d-176c21c90d8e",
   "metadata": {},
   "outputs": [],
   "source": [
    "df['target'] = encoder.fit_transform(df['target'])"
   ]
  },
  {
   "cell_type": "code",
   "execution_count": 55,
   "id": "d005f354-dd8a-471a-9948-5a810301b83b",
   "metadata": {},
   "outputs": [],
   "source": [
    "df = df[df['target']!=0][['sepal length (cm)','sepal width (cm)','target']]"
   ]
  },
  {
   "cell_type": "code",
   "execution_count": 58,
   "id": "01470398-571b-42b7-98bf-64e155451ecf",
   "metadata": {},
   "outputs": [
    {
     "data": {
      "text/html": [
       "<div>\n",
       "<style scoped>\n",
       "    .dataframe tbody tr th:only-of-type {\n",
       "        vertical-align: middle;\n",
       "    }\n",
       "\n",
       "    .dataframe tbody tr th {\n",
       "        vertical-align: top;\n",
       "    }\n",
       "\n",
       "    .dataframe thead th {\n",
       "        text-align: right;\n",
       "    }\n",
       "</style>\n",
       "<table border=\"1\" class=\"dataframe\">\n",
       "  <thead>\n",
       "    <tr style=\"text-align: right;\">\n",
       "      <th></th>\n",
       "      <th>sepal length (cm)</th>\n",
       "      <th>sepal width (cm)</th>\n",
       "      <th>target</th>\n",
       "    </tr>\n",
       "  </thead>\n",
       "  <tbody>\n",
       "    <tr>\n",
       "      <th>85</th>\n",
       "      <td>6.0</td>\n",
       "      <td>3.4</td>\n",
       "      <td>1</td>\n",
       "    </tr>\n",
       "    <tr>\n",
       "      <th>72</th>\n",
       "      <td>6.3</td>\n",
       "      <td>2.5</td>\n",
       "      <td>1</td>\n",
       "    </tr>\n",
       "    <tr>\n",
       "      <th>117</th>\n",
       "      <td>7.7</td>\n",
       "      <td>3.8</td>\n",
       "      <td>2</td>\n",
       "    </tr>\n",
       "  </tbody>\n",
       "</table>\n",
       "</div>"
      ],
      "text/plain": [
       "     sepal length (cm)  sepal width (cm)  target\n",
       "85                 6.0               3.4       1\n",
       "72                 6.3               2.5       1\n",
       "117                7.7               3.8       2"
      ]
     },
     "execution_count": 58,
     "metadata": {},
     "output_type": "execute_result"
    }
   ],
   "source": [
    "df.sample(3)"
   ]
  },
  {
   "cell_type": "code",
   "execution_count": 60,
   "id": "19ed768c-b7f8-4fc9-846f-18380244e681",
   "metadata": {},
   "outputs": [],
   "source": [
    "X = df.iloc[:,0:2]\n",
    "y = df.iloc[:,-1]"
   ]
  },
  {
   "cell_type": "code",
   "execution_count": 62,
   "id": "de334505-d989-4295-93f6-d4f9ff3c994e",
   "metadata": {},
   "outputs": [],
   "source": [
    "clf1 = LogisticRegression()\n",
    "clf2 = RandomForestClassifier()\n",
    "clf3 = KNeighborsClassifier()"
   ]
  },
  {
   "cell_type": "code",
   "execution_count": 64,
   "id": "7d155847-0c30-41f1-b0e4-1b5f9c79bda2",
   "metadata": {},
   "outputs": [],
   "source": [
    "estimators = [('lr',clf1),('rf',clf2),('knn',clf3)]"
   ]
  },
  {
   "cell_type": "code",
   "execution_count": 70,
   "id": "773b68bd-13df-46fc-b549-e31b2f514a76",
   "metadata": {},
   "outputs": [
    {
     "name": "stdout",
     "output_type": "stream",
     "text": [
      "lr 0.75\n",
      "rf 0.61\n",
      "knn 0.62\n"
     ]
    }
   ],
   "source": [
    "for estimator in estimators:\n",
    "    x = cross_val_score(estimator[1],X,y,cv=10,scoring='accuracy')\n",
    "    print(estimator[0],np.round(np.mean(x),2))"
   ]
  },
  {
   "cell_type": "markdown",
   "id": "95cffe28-8d3c-47a5-a79e-3106036c35e0",
   "metadata": {},
   "source": [
    "## Hard Voting"
   ]
  },
  {
   "cell_type": "code",
   "execution_count": 73,
   "id": "c19df292-ad2a-4975-a0ea-cb8154680b26",
   "metadata": {},
   "outputs": [
    {
     "name": "stdout",
     "output_type": "stream",
     "text": [
      "0.67\n"
     ]
    }
   ],
   "source": [
    "vc = VotingClassifier(estimators,voting='hard')\n",
    "x = cross_val_score(vc,X,y,cv=10,scoring = 'accuracy')\n",
    "print(np.round(np.mean(x),2))"
   ]
  },
  {
   "cell_type": "markdown",
   "id": "3c63200d-bd2f-468c-b2e1-8444e8e20cf1",
   "metadata": {},
   "source": [
    "## Soft Voting"
   ]
  },
  {
   "cell_type": "code",
   "execution_count": 76,
   "id": "d1beb72e-0c6d-4556-9dd0-2e4b59888dd6",
   "metadata": {},
   "outputs": [
    {
     "name": "stdout",
     "output_type": "stream",
     "text": [
      "0.66\n"
     ]
    }
   ],
   "source": [
    "vc = VotingClassifier(estimators,voting='soft')\n",
    "x = cross_val_score(vc,X,y,cv=10,scoring = 'accuracy')\n",
    "print(np.round(np.mean(x),2))"
   ]
  },
  {
   "cell_type": "markdown",
   "id": "b4f547ca-a1c1-4d52-9660-abc9796d49c4",
   "metadata": {},
   "source": [
    "## Weighted Voting"
   ]
  },
  {
   "cell_type": "code",
   "execution_count": 79,
   "id": "ce141dcf-a473-47b8-bec2-7f7bcf4cb9df",
   "metadata": {},
   "outputs": [
    {
     "name": "stdout",
     "output_type": "stream",
     "text": [
      "0.64\n",
      "0.65\n",
      "0.65\n",
      "0.64\n",
      "0.64\n",
      "0.63\n",
      "0.6\n",
      "0.64\n",
      "0.62\n",
      "0.68\n",
      "0.65\n",
      "0.67\n",
      "0.64\n",
      "0.64\n",
      "0.66\n",
      "0.61\n",
      "0.64\n",
      "0.63\n",
      "0.71\n",
      "0.69\n",
      "0.69\n",
      "0.67\n",
      "0.69\n",
      "0.65\n",
      "0.65\n",
      "0.66\n",
      "0.64\n"
     ]
    }
   ],
   "source": [
    "for i in range(1,4):\n",
    "    for j in range(1,4):\n",
    "        for k in range(1,4):\n",
    "            vc = VotingClassifier(estimators,voting='soft',weights=[i,j,k])\n",
    "            x = cross_val_score(vc,X,y,cv=10,scoring = 'accuracy')\n",
    "            print(np.round(np.mean(x),2))"
   ]
  },
  {
   "cell_type": "markdown",
   "id": "2bbb9522-7408-41ed-b703-7b091e85c815",
   "metadata": {},
   "source": [
    "## Classifier of Same Algo"
   ]
  },
  {
   "cell_type": "code",
   "execution_count": 81,
   "id": "86699575-6a57-435c-bfb7-3eae6ae3cc1a",
   "metadata": {},
   "outputs": [],
   "source": [
    "from sklearn.svm import SVC"
   ]
  },
  {
   "cell_type": "code",
   "execution_count": 82,
   "id": "acad63a9-6ddd-4554-baaf-b666b0c2aeb9",
   "metadata": {},
   "outputs": [
    {
     "name": "stdout",
     "output_type": "stream",
     "text": [
      "svm1 0.72\n",
      "svm2 0.72\n",
      "svm3 0.71\n",
      "svm4 0.69\n",
      "svm5 0.68\n"
     ]
    }
   ],
   "source": [
    "svm1 = SVC(probability=True, kernel='poly', degree=1)\n",
    "svm2 = SVC(probability=True, kernel='poly', degree=2)\n",
    "svm3 = SVC(probability=True, kernel='poly', degree=3)\n",
    "svm4 = SVC(probability=True, kernel='poly', degree=4)\n",
    "svm5 = SVC(probability=True, kernel='poly', degree=5)\n",
    "\n",
    "estimators = [('svm1',svm1),('svm2',svm2),('svm3',svm3),('svm4',svm4),('svm5',svm5)]\n",
    "\n",
    "for estimator in estimators:\n",
    "    x = cross_val_score(estimator[1],X,y,cv=10,scoring='accuracy')\n",
    "    print(estimator[0],np.round(np.mean(x),2))"
   ]
  },
  {
   "cell_type": "code",
   "execution_count": 88,
   "id": "7785360e-389f-4553-a309-50d77b7aaea8",
   "metadata": {},
   "outputs": [
    {
     "name": "stdout",
     "output_type": "stream",
     "text": [
      "0.72\n"
     ]
    }
   ],
   "source": [
    "vc1 = VotingClassifier(estimators=estimators,voting='hard')\n",
    "x = cross_val_score(vc1,X,y,cv=10,scoring='accuracy')\n",
    "print(np.round(np.mean(x),2))"
   ]
  },
  {
   "cell_type": "code",
   "execution_count": null,
   "id": "d5580982-b8e1-463a-9813-ca7558b1fa83",
   "metadata": {},
   "outputs": [],
   "source": []
  }
 ],
 "metadata": {
  "kernelspec": {
   "display_name": "Python 3 (ipykernel)",
   "language": "python",
   "name": "python3"
  },
  "language_info": {
   "codemirror_mode": {
    "name": "ipython",
    "version": 3
   },
   "file_extension": ".py",
   "mimetype": "text/x-python",
   "name": "python",
   "nbconvert_exporter": "python",
   "pygments_lexer": "ipython3",
   "version": "3.12.4"
  }
 },
 "nbformat": 4,
 "nbformat_minor": 5
}
