{
 "cells": [
  {
   "cell_type": "markdown",
   "id": "1ce3dbbe-92eb-41bd-97be-5add4da84156",
   "metadata": {},
   "source": [
    "# Voting Regressor"
   ]
  },
  {
   "cell_type": "code",
   "execution_count": 7,
   "id": "c1075c9a-2288-4887-a021-8404a6e0af19",
   "metadata": {},
   "outputs": [],
   "source": [
    "from sklearn.datasets import load_diabetes\n",
    "import numpy as np"
   ]
  },
  {
   "cell_type": "code",
   "execution_count": 23,
   "id": "a1ca3901-9eaf-4323-beb8-209890328dfa",
   "metadata": {},
   "outputs": [],
   "source": [
    "data = load_diabetes(as_frame = True)\n",
    "df = data.frame"
   ]
  },
  {
   "cell_type": "code",
   "execution_count": 27,
   "id": "fc3d2223-c8e6-421a-acc1-bf9781fa277e",
   "metadata": {},
   "outputs": [
    {
     "data": {
      "text/html": [
       "<div>\n",
       "<style scoped>\n",
       "    .dataframe tbody tr th:only-of-type {\n",
       "        vertical-align: middle;\n",
       "    }\n",
       "\n",
       "    .dataframe tbody tr th {\n",
       "        vertical-align: top;\n",
       "    }\n",
       "\n",
       "    .dataframe thead th {\n",
       "        text-align: right;\n",
       "    }\n",
       "</style>\n",
       "<table border=\"1\" class=\"dataframe\">\n",
       "  <thead>\n",
       "    <tr style=\"text-align: right;\">\n",
       "      <th></th>\n",
       "      <th>age</th>\n",
       "      <th>sex</th>\n",
       "      <th>bmi</th>\n",
       "      <th>bp</th>\n",
       "      <th>s1</th>\n",
       "      <th>s2</th>\n",
       "      <th>s3</th>\n",
       "      <th>s4</th>\n",
       "      <th>s5</th>\n",
       "      <th>s6</th>\n",
       "      <th>target</th>\n",
       "    </tr>\n",
       "  </thead>\n",
       "  <tbody>\n",
       "    <tr>\n",
       "      <th>47</th>\n",
       "      <td>-0.078165</td>\n",
       "      <td>-0.044642</td>\n",
       "      <td>-0.073030</td>\n",
       "      <td>-0.057313</td>\n",
       "      <td>-0.084126</td>\n",
       "      <td>-0.074277</td>\n",
       "      <td>-0.024993</td>\n",
       "      <td>-0.039493</td>\n",
       "      <td>-0.018114</td>\n",
       "      <td>-0.083920</td>\n",
       "      <td>142.0</td>\n",
       "    </tr>\n",
       "    <tr>\n",
       "      <th>211</th>\n",
       "      <td>0.092564</td>\n",
       "      <td>-0.044642</td>\n",
       "      <td>0.036907</td>\n",
       "      <td>0.021872</td>\n",
       "      <td>-0.024960</td>\n",
       "      <td>-0.016658</td>\n",
       "      <td>0.000779</td>\n",
       "      <td>-0.039493</td>\n",
       "      <td>-0.022517</td>\n",
       "      <td>-0.021788</td>\n",
       "      <td>70.0</td>\n",
       "    </tr>\n",
       "    <tr>\n",
       "      <th>181</th>\n",
       "      <td>0.048974</td>\n",
       "      <td>-0.044642</td>\n",
       "      <td>-0.042852</td>\n",
       "      <td>-0.053870</td>\n",
       "      <td>0.045213</td>\n",
       "      <td>0.050042</td>\n",
       "      <td>0.033914</td>\n",
       "      <td>-0.002592</td>\n",
       "      <td>-0.025953</td>\n",
       "      <td>-0.063209</td>\n",
       "      <td>64.0</td>\n",
       "    </tr>\n",
       "    <tr>\n",
       "      <th>187</th>\n",
       "      <td>-0.067268</td>\n",
       "      <td>-0.044642</td>\n",
       "      <td>-0.054707</td>\n",
       "      <td>-0.026328</td>\n",
       "      <td>-0.075870</td>\n",
       "      <td>-0.082106</td>\n",
       "      <td>0.048640</td>\n",
       "      <td>-0.076395</td>\n",
       "      <td>-0.086827</td>\n",
       "      <td>-0.104630</td>\n",
       "      <td>143.0</td>\n",
       "    </tr>\n",
       "    <tr>\n",
       "      <th>74</th>\n",
       "      <td>0.012648</td>\n",
       "      <td>0.050680</td>\n",
       "      <td>0.002417</td>\n",
       "      <td>0.056301</td>\n",
       "      <td>0.027326</td>\n",
       "      <td>0.017162</td>\n",
       "      <td>0.041277</td>\n",
       "      <td>-0.039493</td>\n",
       "      <td>0.003709</td>\n",
       "      <td>0.073480</td>\n",
       "      <td>85.0</td>\n",
       "    </tr>\n",
       "  </tbody>\n",
       "</table>\n",
       "</div>"
      ],
      "text/plain": [
       "          age       sex       bmi        bp        s1        s2        s3  \\\n",
       "47  -0.078165 -0.044642 -0.073030 -0.057313 -0.084126 -0.074277 -0.024993   \n",
       "211  0.092564 -0.044642  0.036907  0.021872 -0.024960 -0.016658  0.000779   \n",
       "181  0.048974 -0.044642 -0.042852 -0.053870  0.045213  0.050042  0.033914   \n",
       "187 -0.067268 -0.044642 -0.054707 -0.026328 -0.075870 -0.082106  0.048640   \n",
       "74   0.012648  0.050680  0.002417  0.056301  0.027326  0.017162  0.041277   \n",
       "\n",
       "           s4        s5        s6  target  \n",
       "47  -0.039493 -0.018114 -0.083920   142.0  \n",
       "211 -0.039493 -0.022517 -0.021788    70.0  \n",
       "181 -0.002592 -0.025953 -0.063209    64.0  \n",
       "187 -0.076395 -0.086827 -0.104630   143.0  \n",
       "74  -0.039493  0.003709  0.073480    85.0  "
      ]
     },
     "execution_count": 27,
     "metadata": {},
     "output_type": "execute_result"
    }
   ],
   "source": [
    "df.sample(5)"
   ]
  },
  {
   "cell_type": "code",
   "execution_count": 39,
   "id": "4a5816eb-408a-4ae3-be62-a55dadf16640",
   "metadata": {},
   "outputs": [],
   "source": [
    "X = df.iloc[:,:-1]\n",
    "y = df.iloc[:,-1]"
   ]
  },
  {
   "cell_type": "code",
   "execution_count": 41,
   "id": "f0644399-87c2-4433-8820-1ee209cc5151",
   "metadata": {},
   "outputs": [],
   "source": [
    "from sklearn.linear_model import LinearRegression\n",
    "from sklearn.tree import DecisionTreeRegressor\n",
    "from sklearn.svm import SVR"
   ]
  },
  {
   "cell_type": "code",
   "execution_count": 43,
   "id": "bc60bf3e-821f-49d7-9c55-5511356f978b",
   "metadata": {},
   "outputs": [],
   "source": [
    "lr = LinearRegression()\n",
    "dt = DecisionTreeRegressor()\n",
    "svr = SVR()"
   ]
  },
  {
   "cell_type": "code",
   "execution_count": 45,
   "id": "df523771-1512-47cc-8fab-807091adb42e",
   "metadata": {},
   "outputs": [],
   "source": [
    "estimators = [('lr',lr),('dt',dt),('svr',svr)]"
   ]
  },
  {
   "cell_type": "code",
   "execution_count": 47,
   "id": "054068cb-184d-4765-a8d1-632ef3e4bb77",
   "metadata": {},
   "outputs": [],
   "source": [
    "from sklearn.model_selection import cross_val_score"
   ]
  },
  {
   "cell_type": "code",
   "execution_count": 55,
   "id": "aaefa6c0-eaa6-432e-ab78-ceedf5b998d5",
   "metadata": {},
   "outputs": [
    {
     "name": "stdout",
     "output_type": "stream",
     "text": [
      "lr 0.46\n",
      "dt -0.26\n",
      "svr 0.15\n"
     ]
    }
   ],
   "source": [
    "for estimator in estimators:\n",
    "    x = cross_val_score(estimator[1],X,y,cv=10,scoring='r2')\n",
    "    print(estimator[0],np.round(np.mean(x),2))"
   ]
  },
  {
   "cell_type": "code",
   "execution_count": 59,
   "id": "55cc454b-633d-4e35-864b-6faaff392113",
   "metadata": {},
   "outputs": [],
   "source": [
    "from sklearn.ensemble import VotingRegressor"
   ]
  },
  {
   "cell_type": "code",
   "execution_count": 65,
   "id": "2ca2b4c0-b1dc-46a8-a53a-64957a4af93d",
   "metadata": {},
   "outputs": [
    {
     "name": "stdout",
     "output_type": "stream",
     "text": [
      "Voting Regressor 0.34\n"
     ]
    }
   ],
   "source": [
    "vr = VotingRegressor(estimators)\n",
    "x = cross_val_score(vr,X,y,cv=10,scoring='r2')\n",
    "print(\"Voting Regressor\", np.round(np.mean(x),2))"
   ]
  },
  {
   "cell_type": "code",
   "execution_count": 67,
   "id": "f46d9fe3-f68c-4776-8807-f0af420b873e",
   "metadata": {},
   "outputs": [
    {
     "name": "stdout",
     "output_type": "stream",
     "text": [
      "For i=1,j=1,k=1 0.36\n",
      "For i=1,j=1,k=2 0.33\n",
      "For i=1,j=1,k=3 0.31\n",
      "For i=1,j=2,k=1 0.26\n",
      "For i=1,j=2,k=2 0.3\n",
      "For i=1,j=2,k=3 0.29\n",
      "For i=1,j=3,k=1 0.16\n",
      "For i=1,j=3,k=2 0.22\n",
      "For i=1,j=3,k=3 0.26\n",
      "For i=2,j=1,k=1 0.39\n",
      "For i=2,j=1,k=2 0.38\n",
      "For i=2,j=1,k=3 0.36\n",
      "For i=2,j=2,k=1 0.34\n",
      "For i=2,j=2,k=2 0.35\n",
      "For i=2,j=2,k=3 0.33\n",
      "For i=2,j=3,k=1 0.28\n",
      "For i=2,j=3,k=2 0.29\n",
      "For i=2,j=3,k=3 0.33\n",
      "For i=3,j=1,k=1 0.42\n",
      "For i=3,j=1,k=2 0.41\n",
      "For i=3,j=1,k=3 0.4\n",
      "For i=3,j=2,k=1 0.37\n",
      "For i=3,j=2,k=2 0.38\n",
      "For i=3,j=2,k=3 0.37\n",
      "For i=3,j=3,k=1 0.32\n",
      "For i=3,j=3,k=2 0.32\n",
      "For i=3,j=3,k=3 0.35\n"
     ]
    }
   ],
   "source": [
    "for i in range(1,4):\n",
    "  for j in range(1,4):\n",
    "    for k in range(1,4):\n",
    "      vr = VotingRegressor(estimators,weights=[i,j,k])\n",
    "      scores = cross_val_score(vr,X,y,scoring='r2',cv=10)\n",
    "      print(\"For i={},j={},k={}\".format(i,j,k),np.round(np.mean(scores),2))"
   ]
  },
  {
   "cell_type": "markdown",
   "id": "33cd099b-c57a-4fe5-a2bb-c6802a96b424",
   "metadata": {},
   "source": [
    "## using the same algorithm\n"
   ]
  },
  {
   "cell_type": "code",
   "execution_count": 70,
   "id": "4a6b487a-0c96-43f6-8c93-e56d69831a64",
   "metadata": {},
   "outputs": [],
   "source": [
    "clf1 = DecisionTreeRegressor(max_depth = 1)\n",
    "clf2 = DecisionTreeRegressor(max_depth = 2)\n",
    "clf3 = DecisionTreeRegressor(max_depth = 3)\n",
    "clf4 = DecisionTreeRegressor(max_depth = 4)\n",
    "clf5 = DecisionTreeRegressor(max_depth = 5)\n",
    "clf6 = DecisionTreeRegressor(max_depth = None)"
   ]
  },
  {
   "cell_type": "code",
   "execution_count": 72,
   "id": "aa30f99f-6b99-4262-be29-3f0f43533ac9",
   "metadata": {},
   "outputs": [],
   "source": [
    "estimators = [('clf1',clf1),('clf2',clf2),('clf3',clf3),('clf4',clf4),('clf5',clf5),('clf6',clf6)]"
   ]
  },
  {
   "cell_type": "code",
   "execution_count": 74,
   "id": "35772b06-b12a-4df9-afc0-165c4a8e7dcd",
   "metadata": {},
   "outputs": [
    {
     "name": "stdout",
     "output_type": "stream",
     "text": [
      "Voting Regressor 0.28\n"
     ]
    }
   ],
   "source": [
    "vr = VotingRegressor(estimators)\n",
    "x = cross_val_score(vr,X,y,cv=10,scoring='r2')\n",
    "print(\"Voting Regressor\", np.round(np.mean(x),2))"
   ]
  },
  {
   "cell_type": "code",
   "execution_count": null,
   "id": "b4252e46-41a5-4b94-9e7f-36614efe15aa",
   "metadata": {},
   "outputs": [],
   "source": []
  }
 ],
 "metadata": {
  "kernelspec": {
   "display_name": "Python 3 (ipykernel)",
   "language": "python",
   "name": "python3"
  },
  "language_info": {
   "codemirror_mode": {
    "name": "ipython",
    "version": 3
   },
   "file_extension": ".py",
   "mimetype": "text/x-python",
   "name": "python",
   "nbconvert_exporter": "python",
   "pygments_lexer": "ipython3",
   "version": "3.12.4"
  }
 },
 "nbformat": 4,
 "nbformat_minor": 5
}
